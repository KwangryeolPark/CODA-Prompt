{
 "cells": [
  {
   "cell_type": "code",
   "execution_count": 1,
   "metadata": {},
   "outputs": [],
   "source": [
    "import yaml\n",
    "import numpy as np\n",
    "import learners\n",
    "import dataloaders\n",
    "from torch.utils.data import DataLoader\n",
    "import pickle\n",
    "import matplotlib.pyplot as plt\n",
    "import json"
   ]
  },
  {
   "cell_type": "code",
   "execution_count": 2,
   "metadata": {},
   "outputs": [],
   "source": [
    "def softmax(data):\n",
    "    e = np.exp(data)\n",
    "    return e / np.sum(e, axis=1, keepdims=True)\n",
    "\n",
    "def read_fine_label(path='fine_label_map.json'):\n",
    "    loadded_data = json.load(open(path))\n",
    "    loadded_data = {int(k):v for k,v in loadded_data.items()}\n",
    "    return loadded_data"
   ]
  },
  {
   "cell_type": "code",
   "execution_count": 3,
   "metadata": {},
   "outputs": [],
   "source": [
    "with open('metric_table.pkl', 'rb') as f:\n",
    "    results = pickle.load(f)\n",
    "\n",
    "fine_label = read_fine_label()\n",
    "\n",
    "for current_task_id in results:\n",
    "    for target_task_id in results[current_task_id]:\n",
    "        data = results[current_task_id][target_task_id]\n",
    "        acc = data[0]\n",
    "        true = data[1]\n",
    "        pred = data[2]\n",
    "        logits = data[3]\n",
    "        prob = softmax(logits)\n",
    "        results[current_task_id][target_task_id] = (acc, true, pred, prob)\n"
   ]
  },
  {
   "cell_type": "code",
   "execution_count": 4,
   "metadata": {},
   "outputs": [],
   "source": [
    "def obtain_results(check_task_id, results, fine_label):\n",
    "    x = []\n",
    "    ys = []\n",
    "\n",
    "    x = [index for index in range(check_task_id, len(results))]\n",
    "\n",
    "    for target_task_id in range(check_task_id, len(results)):\n",
    "        data = results[target_task_id][check_task_id]   # target_task_id에서 학습된 모델에 대한 check_task_id에서의 결과\n",
    "        acc = data[0]\n",
    "        true = data[1]\n",
    "        pred = data[2]\n",
    "        prob = data[3]\n",
    "        \n",
    "        incurrect = {index: 0 for index in np.unique(true)}\n",
    "        string_label = [fine_label[index] for index in np.unique(true)]\n",
    "        for i in range(len(true)):\n",
    "            if true[i] != pred[i]:\n",
    "                incurrect[true[i]] += 1\n",
    "        y = [incurrect[index] for index in np.unique(true)]\n",
    "        ys.append(y)\n",
    "        \n",
    "    x = np.array(x)\n",
    "    ys = np.array(ys)\n",
    "    ys = np.transpose(ys)\n",
    "    return x, ys, string_label"
   ]
  },
  {
   "cell_type": "code",
   "execution_count": null,
   "metadata": {},
   "outputs": [],
   "source": [
    "import os\n",
    "\n",
    "os.makedirs('figures', exist_ok=True)\n",
    "\n",
    "for check_task_id in range(0, len(results) - 1):\n",
    "    x, ys, string_label = obtain_results(check_task_id, results, fine_label)\n",
    "    print(len(x), ys.shape, len(string_label))\n",
    "    plt.figure()\n",
    "    plt.xticks(x)\n",
    "    for i in range(len(ys)):\n",
    "        plt.plot(x, ys[i, :], label=f'{string_label[i]}')\n",
    "    plt.xlabel('Training Task')\n",
    "    plt.ylabel('Number of Incorrect Prediction')\n",
    "    plt.title(f'Top Incorrect Classes Over Time for Task-{check_task_id}')\n",
    "    plt.legend()\n",
    "    plt.savefig(f'figures/task_{check_task_id}.png')"
   ]
  },
  {
   "cell_type": "code",
   "execution_count": null,
   "metadata": {},
   "outputs": [],
   "source": [
    "import os\n",
    "\n",
    "os.makedirs('figures', exist_ok=True)\n",
    "\n",
    "plt.figure(figsize=(20, 20))\n",
    "for check_task_id in range(0, len(results) - 1):\n",
    "    x, ys, string_label = obtain_results(check_task_id, results, fine_label)\n",
    "    print(len(x), ys.shape, len(string_label))\n",
    "    plt.xticks(x)\n",
    "    for i in range(len(ys)):\n",
    "        plt.plot(x, ys[i, :], label=f'{string_label[i]}')\n",
    "    plt.xlabel('Training Task')\n",
    "    plt.ylabel('Number of Incorrect Prediction')\n",
    "    plt.title(f'Top Incorrect Classes Over Time for Task-{check_task_id}')\n",
    "    plt.legend()\n",
    "plt.savefig(f'figures/task_all.png')"
   ]
  }
 ],
 "metadata": {
  "kernelspec": {
   "display_name": "base",
   "language": "python",
   "name": "python3"
  },
  "language_info": {
   "codemirror_mode": {
    "name": "ipython",
    "version": 3
   },
   "file_extension": ".py",
   "mimetype": "text/x-python",
   "name": "python",
   "nbconvert_exporter": "python",
   "pygments_lexer": "ipython3",
   "version": "3.10.10"
  }
 },
 "nbformat": 4,
 "nbformat_minor": 2
}
